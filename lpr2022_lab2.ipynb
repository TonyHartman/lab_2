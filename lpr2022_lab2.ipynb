{
 "cells": [
  {
   "cell_type": "markdown",
   "id": "5e2169fa",
   "metadata": {},
   "source": [
    "## Двумерные списки"
   ]
  },
  {
   "cell_type": "markdown",
   "id": "24411da1",
   "metadata": {},
   "source": [
    "\"Двумерный список\" — это обычный список, элементами которого являются списки. Такой термин удобен для нас, но для Python нет разницы между одномерными и двумерными списками. В частности, нечто такое вообще будет являться промежуточным: `[1, [2, 3, 4], 5]`\n",
    "\n",
    "Создадим список и рассмотрим обращение к элементам."
   ]
  },
  {
   "cell_type": "code",
   "execution_count": null,
   "id": "bdba992b",
   "metadata": {},
   "outputs": [],
   "source": [
    "a = [[1, 2, 3], [4, 5, 6]]\n",
    "print(*a)\n",
    "print(a[1])\n",
    "print(a[1][0])\n",
    "print(a[-1][-1])"
   ]
  },
  {
   "cell_type": "code",
   "execution_count": null,
   "id": "29994282",
   "metadata": {},
   "outputs": [],
   "source": [
    "for i in range(len(a)):\n",
    "    print(*a[i])"
   ]
  },
  {
   "cell_type": "markdown",
   "id": "b88a9954",
   "metadata": {},
   "source": [
    "Для создания списка можем использовать генераторы:"
   ]
  },
  {
   "cell_type": "code",
   "execution_count": null,
   "id": "4a2fb96f",
   "metadata": {},
   "outputs": [],
   "source": [
    "a = [[1, 2, 3] for i in range(4)]\n",
    "for i in range(len(a)):\n",
    "    print(*a[i])"
   ]
  },
  {
   "cell_type": "code",
   "execution_count": null,
   "id": "4f287c52",
   "metadata": {},
   "outputs": [],
   "source": [
    "a = [[i, i+1, i+2] for i in range(4)]\n",
    "for i in range(len(a)):\n",
    "    print(*a[i])"
   ]
  },
  {
   "cell_type": "code",
   "execution_count": null,
   "id": "f739ed7d",
   "metadata": {},
   "outputs": [],
   "source": [
    "for x in a:\n",
    "    print(*x)"
   ]
  },
  {
   "cell_type": "code",
   "execution_count": null,
   "id": "9a48cf74",
   "metadata": {},
   "outputs": [],
   "source": [
    "print(a)"
   ]
  },
  {
   "cell_type": "markdown",
   "id": "11dad1dc",
   "metadata": {},
   "source": [
    "Вот пример создания списка списков при помощи генератора списка, *вложенного* в генератор списка:"
   ]
  },
  {
   "cell_type": "code",
   "execution_count": null,
   "id": "dead9401",
   "metadata": {},
   "outputs": [],
   "source": [
    "a = [[j for j in range(5)] for i in range(5)]\n",
    "for x in a:\n",
    "    print(*x)"
   ]
  },
  {
   "cell_type": "markdown",
   "id": "02e09442",
   "metadata": {},
   "source": [
    "**Упражнение:** создайте двумерный список. Заполните его следующим образом: значение элемента - номер его строки."
   ]
  },
  {
   "cell_type": "code",
   "execution_count": null,
   "id": "18ede4a8",
   "metadata": {},
   "outputs": [],
   "source": []
  },
  {
   "cell_type": "markdown",
   "id": "16ce173d",
   "metadata": {},
   "source": [
    "**Пример.** Напечатаем таблицу умножения $10*10$:"
   ]
  },
  {
   "cell_type": "code",
   "execution_count": null,
   "id": "9b197df4",
   "metadata": {},
   "outputs": [],
   "source": [
    "n, m = 10, 10\n",
    "a = [[i * j for j in range(1, m + 1)] for i in range(1, n + 1)]\n",
    "for x in a:\n",
    "    print(*x)"
   ]
  },
  {
   "cell_type": "markdown",
   "id": "7b1d9a77",
   "metadata": {},
   "source": [
    "## Тип bool. Оператор in. Еще раз про if."
   ]
  },
  {
   "cell_type": "markdown",
   "id": "e683d3d8",
   "metadata": {},
   "source": [
    "Еще один базовый тип данных — это `bool`. Переменные такого типа могут принимать только 2 значения: `True` и `False`."
   ]
  },
  {
   "cell_type": "code",
   "execution_count": null,
   "id": "655cb743",
   "metadata": {},
   "outputs": [],
   "source": [
    "print(1 > 0)"
   ]
  },
  {
   "cell_type": "code",
   "execution_count": null,
   "id": "949f364b",
   "metadata": {},
   "outputs": [],
   "source": [
    "a = 1 > 0\n",
    "print(a)"
   ]
  },
  {
   "cell_type": "code",
   "execution_count": null,
   "id": "a9d556fc",
   "metadata": {},
   "outputs": [],
   "source": [
    "b = 1 < 0\n",
    "print(b)"
   ]
  },
  {
   "cell_type": "code",
   "execution_count": null,
   "id": "62ffde28",
   "metadata": {},
   "outputs": [],
   "source": [
    "print(a * 5)\n",
    "print(b * 3)"
   ]
  },
  {
   "cell_type": "markdown",
   "id": "d33283e9",
   "metadata": {},
   "source": [
    "Именно тип `bool` используется в каскадной конструкции `if elif ... else`:"
   ]
  },
  {
   "cell_type": "code",
   "execution_count": null,
   "id": "44b85637",
   "metadata": {},
   "outputs": [],
   "source": [
    "if 1 > 0:\n",
    "    print(2)"
   ]
  },
  {
   "cell_type": "markdown",
   "id": "ec682419",
   "metadata": {},
   "source": [
    "Существует приведение типов. Любое число, отличное от нуля с логической точки зрения — `True`, нуль воспринимается как `False`"
   ]
  },
  {
   "cell_type": "code",
   "execution_count": null,
   "id": "e34f6f82",
   "metadata": {},
   "outputs": [],
   "source": [
    "if 5:\n",
    "    print(2)\n",
    "else:\n",
    "    print(\"!\")"
   ]
  },
  {
   "cell_type": "code",
   "execution_count": null,
   "id": "5ca698d5",
   "metadata": {},
   "outputs": [],
   "source": [
    "if 0:\n",
    "    print(4)\n",
    "else:\n",
    "    print(\"!\")"
   ]
  },
  {
   "cell_type": "code",
   "execution_count": null,
   "id": "c655994b",
   "metadata": {},
   "outputs": [],
   "source": [
    "for i in [1, 2, 3, 4, 5]:\n",
    "    print(i)"
   ]
  },
  {
   "cell_type": "markdown",
   "id": "b92e2643",
   "metadata": {},
   "source": [
    "### Оператор `in`\n",
    "Лексема `in` может быть использована не только как часть синтаксической конструкции цикла `for`, но и как *оператор* для проверки принадлежности элемента итерируемому объекту:"
   ]
  },
  {
   "cell_type": "code",
   "execution_count": null,
   "id": "27cce21b",
   "metadata": {},
   "outputs": [],
   "source": [
    "print(4 in [1, 2, 3, 4, 5])\n",
    "print(6 in [1, 2, 3, 4, 5])"
   ]
  },
  {
   "cell_type": "code",
   "execution_count": null,
   "id": "6c1545be",
   "metadata": {},
   "outputs": [],
   "source": [
    "print(4 in range(1, 6))\n",
    "print(6 in range(1, 6))"
   ]
  },
  {
   "cell_type": "code",
   "execution_count": null,
   "id": "256067bf",
   "metadata": {},
   "outputs": [],
   "source": [
    "print(\"b\" in \"abc\")\n",
    "print(\"B\" in \"abc\")"
   ]
  },
  {
   "cell_type": "markdown",
   "id": "5fb27cad",
   "metadata": {},
   "source": [
    "## Функции, возвращающие значение\n",
    "Функции — это вспомогательные алгоритмы. "
   ]
  },
  {
   "cell_type": "markdown",
   "id": "57f88b90",
   "metadata": {},
   "source": [
    "###  Логическое значение как результат работы функции\n",
    "Ниже описаны три аналогичных функции. Прочитайте их тела и объясните почему они работают одинаково.\n",
    "Какая из них вам больше нравится?"
   ]
  },
  {
   "cell_type": "code",
   "execution_count": null,
   "id": "ef4f059c",
   "metadata": {},
   "outputs": [],
   "source": [
    "def is_positive(x):\n",
    "    if x > 0:\n",
    "        return True\n",
    "    else:\n",
    "        return False\n",
    "    \n",
    "print(is_positive(5))\n",
    "print(is_positive(-5))"
   ]
  },
  {
   "cell_type": "code",
   "execution_count": null,
   "id": "dcdef58f",
   "metadata": {},
   "outputs": [],
   "source": [
    "def is_positive(x):\n",
    "    if x > 0:\n",
    "        return True\n",
    "    return False\n",
    "\n",
    "print(is_positive(5))\n",
    "print(is_positive(-5))"
   ]
  },
  {
   "cell_type": "code",
   "execution_count": null,
   "id": "b0431287",
   "metadata": {},
   "outputs": [],
   "source": [
    "def is_positive(x):\n",
    "    return x > 0\n",
    "\n",
    "print(is_positive(5))\n",
    "print(is_positive(-5))"
   ]
  },
  {
   "cell_type": "markdown",
   "id": "2c47bf96",
   "metadata": {},
   "source": [
    "## Функции как аргументы функций map и filter\n",
    "Для поэлементной обработки любого итерируемого объекта можно использовать функции `map` и `filter`:"
   ]
  },
  {
   "cell_type": "code",
   "execution_count": null,
   "id": "f8670a5b",
   "metadata": {},
   "outputs": [],
   "source": [
    "a = \"1 2 -3 4 -5\".split()\n",
    "print(a)\n",
    "a = list(map(int, a))\n",
    "print(a)"
   ]
  },
  {
   "cell_type": "code",
   "execution_count": null,
   "id": "84d9f84c",
   "metadata": {},
   "outputs": [],
   "source": [
    "a = \"1 2 -3 4 -5\".split()\n",
    "print(a)\n",
    "a = list(map(float, a))\n",
    "print(a)"
   ]
  },
  {
   "cell_type": "code",
   "execution_count": null,
   "id": "1bcae2a6",
   "metadata": {},
   "outputs": [],
   "source": [
    "a = \"1 2 -3 4 -5 0\".split()\n",
    "print(a)\n",
    "a = list(map(bool, a))\n",
    "print(a)"
   ]
  },
  {
   "cell_type": "code",
   "execution_count": null,
   "id": "13a826c6",
   "metadata": {},
   "outputs": [],
   "source": [
    "a = \"1 2 -3 4 -5 0\".split()\n",
    "print(a)\n",
    "a = list(map(int, a))\n",
    "print(a)\n",
    "a = list(map(bool, a))\n",
    "print(a)"
   ]
  },
  {
   "cell_type": "markdown",
   "id": "8c28c10b",
   "metadata": {},
   "source": [
    "Как параметр для `map` можно передавать не только стандартные функции, но и свои собственные:"
   ]
  },
  {
   "cell_type": "code",
   "execution_count": null,
   "id": "80527cdc",
   "metadata": {},
   "outputs": [],
   "source": [
    "def my_function(x):\n",
    "    return x * 2\n",
    "\n",
    "a = \"1 2 -3 4 -5\".split()\n",
    "print(a)\n",
    "a = list(map(my_function, a))\n",
    "print(a)"
   ]
  },
  {
   "cell_type": "markdown",
   "id": "7d192c9d",
   "metadata": {},
   "source": [
    "Такие \"одноразовые функции\" загрязняют пространство имён, поэтому есть возможность создать **безымянную функцию** при помощи слова `lambda`. Вычисляясь, лямбда-выражение \"изготавливает\" новую функцию и передаёт её как объект туда, где она нужна — в функцию `map`. Затем она сразу забывается."
   ]
  },
  {
   "cell_type": "code",
   "execution_count": null,
   "id": "ce922e96",
   "metadata": {},
   "outputs": [],
   "source": [
    "a = \"1 2 -3 4 -5\".split()\n",
    "print(a)\n",
    "a = list(map(lambda x: x * 2, a))\n",
    "print(a)"
   ]
  },
  {
   "cell_type": "code",
   "execution_count": null,
   "id": "959c6572",
   "metadata": {},
   "outputs": [],
   "source": [
    "a = [1, 2, -3, 4, -5]\n",
    "b = list(map(is_positive, a))\n",
    "c = list(filter(is_positive, a))\n",
    "print(b)\n",
    "print(c)"
   ]
  },
  {
   "cell_type": "code",
   "execution_count": null,
   "id": "fd2a87e6",
   "metadata": {},
   "outputs": [],
   "source": [
    "a = [1, 2, -3, 4, -5]\n",
    "b = list(map(lambda x: x > 0, a))\n",
    "c = list(filter(lambda x: x > 0, a))\n",
    "print(b)\n",
    "print(c)"
   ]
  },
  {
   "cell_type": "markdown",
   "id": "7313cf30",
   "metadata": {},
   "source": [
    "Можем делать \"сложную\" лямбда-функцию:"
   ]
  },
  {
   "cell_type": "code",
   "execution_count": null,
   "id": "bf6a53b0",
   "metadata": {},
   "outputs": [],
   "source": [
    "a = \"1 2 -3 4 -5\".split()\n",
    "print(a)\n",
    "a = list(map(lambda x: abs(int(x)), a))\n",
    "print(a)"
   ]
  },
  {
   "cell_type": "markdown",
   "id": "cced2f0d",
   "metadata": {},
   "source": [
    "**Упражнение:** считайте список с клавиатуры. С помощью функции `filter` удалите из него те элементы, которые *не* являются квадратами однозначных натуральных чисел."
   ]
  },
  {
   "cell_type": "code",
   "execution_count": null,
   "id": "470b80f3",
   "metadata": {},
   "outputs": [],
   "source": []
  },
  {
   "cell_type": "markdown",
   "id": "07f6cc31",
   "metadata": {},
   "source": [
    "Можно использовать `map` для обработки считанного списка. Считываем с помощью функции `input()` объект типа `str`, к нему применяем метод `split()` и получаем `list`, ко всем его элементам функция `map` применяет функцию `int`, а конструктор списка `list` сохраняет результат в список:"
   ]
  },
  {
   "cell_type": "code",
   "execution_count": null,
   "id": "5880334d",
   "metadata": {},
   "outputs": [],
   "source": [
    "a = list(map(int, input().split()))\n",
    "print(a)"
   ]
  },
  {
   "cell_type": "code",
   "execution_count": null,
   "id": "513e32ed",
   "metadata": {
    "scrolled": true
   },
   "outputs": [],
   "source": [
    "a = [list(map(int, input().split())) for i in range(5)]"
   ]
  },
  {
   "cell_type": "code",
   "execution_count": null,
   "id": "2a2fa26e",
   "metadata": {},
   "outputs": [],
   "source": [
    "for x in a:\n",
    "    print(*x)"
   ]
  },
  {
   "cell_type": "markdown",
   "id": "8be0994e",
   "metadata": {},
   "source": [
    "Пример: удалить из матрицы строки с отрицательной суммой"
   ]
  },
  {
   "cell_type": "code",
   "execution_count": null,
   "id": "4b7291f3",
   "metadata": {},
   "outputs": [],
   "source": [
    "a = [[5, -2, 3], [-1, 2, -3], [-8, 4, 5]]\n",
    "for x in a:\n",
    "    print(*x)"
   ]
  },
  {
   "cell_type": "code",
   "execution_count": null,
   "id": "107988bd",
   "metadata": {},
   "outputs": [],
   "source": [
    "a = list(filter(lambda x: sum(x) >= 0, a))\n",
    "print(a)"
   ]
  },
  {
   "cell_type": "code",
   "execution_count": null,
   "id": "af8eb227",
   "metadata": {},
   "outputs": [],
   "source": [
    "print(sum(a[0]), sum(a[1]))"
   ]
  },
  {
   "cell_type": "markdown",
   "id": "9687cb48",
   "metadata": {},
   "source": [
    "И еще примеры:"
   ]
  },
  {
   "cell_type": "code",
   "execution_count": null,
   "id": "a25dae6f",
   "metadata": {},
   "outputs": [],
   "source": [
    "a = [1, 2, 3, 4, 5]\n",
    "print(list(map(lambda x: x ** 2, a)))"
   ]
  },
  {
   "cell_type": "code",
   "execution_count": null,
   "id": "7615424a",
   "metadata": {},
   "outputs": [],
   "source": [
    "a = [1, 2, -3, 4, -5]\n",
    "print(list(map(lambda x: x if x >= 0 else 0, a)))"
   ]
  },
  {
   "cell_type": "markdown",
   "id": "3f3d2d44",
   "metadata": {},
   "source": [
    "## Цикл while. Целочисленная арифметика"
   ]
  },
  {
   "cell_type": "markdown",
   "id": "7feb1357",
   "metadata": {},
   "source": [
    "Кроме цикла `for` в Python используется цикл `while`. Например, он удобен, если нужно указать условие выхода через условие типа `bool`"
   ]
  },
  {
   "cell_type": "code",
   "execution_count": null,
   "id": "123b28fb",
   "metadata": {},
   "outputs": [],
   "source": [
    "i = 0\n",
    "while i < 5:\n",
    "    print(i ** 2)\n",
    "    i += 1"
   ]
  },
  {
   "cell_type": "code",
   "execution_count": null,
   "id": "5ee7473f",
   "metadata": {},
   "outputs": [],
   "source": [
    "for i in range(5):\n",
    "    print(i ** 2)"
   ]
  },
  {
   "cell_type": "markdown",
   "id": "3aa86ea4",
   "metadata": {},
   "source": [
    "Еще две арифметические операции, которые потребуются в примере ниже: деление с остатком и целочисленное деление."
   ]
  },
  {
   "cell_type": "code",
   "execution_count": null,
   "id": "69f54375",
   "metadata": {},
   "outputs": [],
   "source": [
    "print(16 % 3)\n",
    "print(16 // 3)"
   ]
  },
  {
   "cell_type": "markdown",
   "id": "85197c8d",
   "metadata": {},
   "source": [
    "С помощью цикла `while` удобно обращаться к отдельным цифрам числа. Например, можно сохранить их в массив:"
   ]
  },
  {
   "cell_type": "code",
   "execution_count": null,
   "id": "6488a45d",
   "metadata": {},
   "outputs": [],
   "source": [
    "a = []\n",
    "n = 2345\n",
    "while n > 0:\n",
    "    a.append(n % 10)\n",
    "    n = n // 10\n",
    "print(a)"
   ]
  },
  {
   "cell_type": "markdown",
   "id": "73cfba6a",
   "metadata": {},
   "source": [
    "**Упражнение:** напишите функцию, которая вычисляет сумму цифр числа, считайте число с клавиатуры и примените эту функцию."
   ]
  },
  {
   "cell_type": "code",
   "execution_count": null,
   "id": "91628376",
   "metadata": {},
   "outputs": [],
   "source": []
  },
  {
   "cell_type": "markdown",
   "id": "7c9dc0fd",
   "metadata": {},
   "source": [
    "Можно запустить \"бесконечный цикл\" (он ничем не отличается от обычного). Внутри циклов можно использовать конструкции `break` и `continue`:"
   ]
  },
  {
   "cell_type": "code",
   "execution_count": null,
   "id": "8794783c",
   "metadata": {},
   "outputs": [],
   "source": [
    "while True:\n",
    "    a = int(input())\n",
    "    print(a)"
   ]
  },
  {
   "cell_type": "markdown",
   "id": "254a4a65",
   "metadata": {},
   "source": [
    "Для прерывания работы ячейки можно нажать на квадратик."
   ]
  },
  {
   "cell_type": "code",
   "execution_count": null,
   "id": "46735686",
   "metadata": {},
   "outputs": [],
   "source": [
    "while True:\n",
    "    a = int(input())\n",
    "    if a > 0:\n",
    "        print(a)\n",
    "    else:\n",
    "        break"
   ]
  },
  {
   "cell_type": "code",
   "execution_count": null,
   "id": "e41787fb",
   "metadata": {},
   "outputs": [],
   "source": [
    "while True:\n",
    "    a = int(input())\n",
    "    if a > 0:\n",
    "        continue\n",
    "    else:\n",
    "        break"
   ]
  },
  {
   "cell_type": "markdown",
   "id": "5da20e2f",
   "metadata": {},
   "source": [
    "## Работа с файлами"
   ]
  },
  {
   "cell_type": "markdown",
   "id": "84e27eb5",
   "metadata": {},
   "source": [
    "Пример: создайте файл input.txt, скопируйте туда таблицу с числами ниже:\n",
    "\n",
    "    1 2 3\n",
    "    4 5 6"
   ]
  },
  {
   "cell_type": "code",
   "execution_count": null,
   "id": "1ade4721",
   "metadata": {},
   "outputs": [],
   "source": [
    "with open(\"input.txt\", \"r\") as f:\n",
    "    print(f.read())"
   ]
  },
  {
   "cell_type": "code",
   "execution_count": null,
   "id": "17a0572d",
   "metadata": {},
   "outputs": [],
   "source": [
    "with open(\"input.txt\", \"r\") as f:\n",
    "    s = f.read()\n",
    "    print(s)\n",
    "    "
   ]
  },
  {
   "cell_type": "code",
   "execution_count": null,
   "id": "7cb5784c",
   "metadata": {},
   "outputs": [],
   "source": [
    "s, type(s)"
   ]
  },
  {
   "cell_type": "markdown",
   "id": "7e855b29",
   "metadata": {},
   "source": [
    "Так выглядит внутреннее представление строки `s`. Когда мы вызываем функцию `print` символ переноса строки `\\n` переводит курсор на новую строку:"
   ]
  },
  {
   "cell_type": "code",
   "execution_count": null,
   "id": "4a95cf02",
   "metadata": {},
   "outputs": [],
   "source": [
    "print(\"1\\n2\")"
   ]
  },
  {
   "cell_type": "code",
   "execution_count": null,
   "id": "248a5e4f",
   "metadata": {},
   "outputs": [],
   "source": [
    "with open(\"input.txt\", \"r\") as f:\n",
    "    a = f.readlines()\n",
    "print(a)"
   ]
  },
  {
   "cell_type": "markdown",
   "id": "45273c92",
   "metadata": {},
   "source": [
    "Напомним, что `rstrip()` удаляет пробельные элементы из конца строки, в частности, символ переноса строки"
   ]
  },
  {
   "cell_type": "code",
   "execution_count": null,
   "id": "5fcc6108",
   "metadata": {},
   "outputs": [],
   "source": [
    "with open(\"input.txt\", \"r\") as f:\n",
    "    a = f.readlines()\n",
    "    a = list(map(lambda x: x.rstrip(), a))\n",
    "print(a)"
   ]
  },
  {
   "cell_type": "code",
   "execution_count": null,
   "id": "ee6bbeb0",
   "metadata": {},
   "outputs": [],
   "source": [
    "with open(\"input.txt\", \"r\") as f:\n",
    "    a = f.readlines()\n",
    "    a = list(map(lambda x: x.rstrip().split(), a))\n",
    "print(a)"
   ]
  },
  {
   "cell_type": "code",
   "execution_count": null,
   "id": "c2625d49",
   "metadata": {},
   "outputs": [],
   "source": [
    "with open(\"input.txt\", \"r\") as f:\n",
    "    a = f.readlines()\n",
    "    a = list(map(lambda x: [int(y) for y in x.rstrip().split()], a))\n",
    "print(a)"
   ]
  },
  {
   "cell_type": "markdown",
   "id": "1c2446d3",
   "metadata": {},
   "source": [
    "Или проще:"
   ]
  },
  {
   "cell_type": "code",
   "execution_count": null,
   "id": "dba4f550",
   "metadata": {},
   "outputs": [],
   "source": [
    "with open(\"input.txt\", \"r\") as f:\n",
    "    a = f.readlines()\n",
    "    a = list(map(lambda x: x.rstrip().split(), a))\n",
    "    for i in range(len(a)):\n",
    "        for j in range(len(a[i])):\n",
    "            a[i][j] = int(a[i][j])\n",
    "print(a)"
   ]
  },
  {
   "cell_type": "markdown",
   "id": "50cd4323",
   "metadata": {},
   "source": [
    "**Пример:** в созданный файл запишем вместо чисел, которые там были, новые числа, равные квадратам исходных"
   ]
  },
  {
   "cell_type": "code",
   "execution_count": null,
   "id": "b38bd1b9",
   "metadata": {},
   "outputs": [],
   "source": [
    "b = [[a[i][j] ** 2 for j in range(len(a[i]))] for i in range(len(a))]\n",
    "print(b)"
   ]
  },
  {
   "cell_type": "code",
   "execution_count": null,
   "id": "6ca144a2",
   "metadata": {},
   "outputs": [],
   "source": [
    "with open(\"output.txt\", \"w\") as f:\n",
    "    f.writelines([\" \".join(x) for x in b])"
   ]
  },
  {
   "cell_type": "code",
   "execution_count": null,
   "id": "82b7feff",
   "metadata": {},
   "outputs": [],
   "source": [
    "b = [[str(x) for x in b[i]] for i in range(len(b))]\n",
    "with open(\"output.txt\", \"w\") as f:\n",
    "    f.writelines([\" \".join(x) for x in b])"
   ]
  },
  {
   "cell_type": "markdown",
   "id": "d7798cae",
   "metadata": {},
   "source": [
    "Посмотрите, что записалось в файл. Не совсем то, что нужно, не хватает символов переноса строки"
   ]
  },
  {
   "cell_type": "code",
   "execution_count": null,
   "id": "a95188de",
   "metadata": {},
   "outputs": [],
   "source": [
    "b = [[str(x) for x in b[i]] for i in range(len(b))]\n",
    "with open(\"output.txt\", \"w\") as f:\n",
    "    f.writelines([\" \".join(x) + \"\\n\" for x in b])"
   ]
  },
  {
   "cell_type": "markdown",
   "id": "648228d0",
   "metadata": {},
   "source": [
    "Файлы можно открывать не только на запись, но и на дозапись. Обратите внимание, что в предыдущей ячейке предыдущее сожержимое файла стерлось запуском `open`, для этого используем флажок `a` вместо `w`"
   ]
  },
  {
   "cell_type": "code",
   "execution_count": null,
   "id": "acadb95e",
   "metadata": {},
   "outputs": [],
   "source": [
    "b = [[str(x) for x in b[i]] for i in range(len(b))]\n",
    "with open(\"output.txt\", \"a\") as f:\n",
    "    f.write(\"done!\")"
   ]
  },
  {
   "cell_type": "markdown",
   "id": "f9b894ad",
   "metadata": {},
   "source": [
    "## Сортировка списков"
   ]
  },
  {
   "cell_type": "markdown",
   "id": "735cd12e",
   "metadata": {},
   "source": [
    "Не углубляясь в алгоритмы, разберем, как можно сортировать списки в Python. Для этого есть функции `sort` и `sorted`. Первая изменяет сортируемый объект, вторая создает новый, а исходный остается:"
   ]
  },
  {
   "cell_type": "code",
   "execution_count": null,
   "id": "93cd612d",
   "metadata": {},
   "outputs": [],
   "source": [
    "a = [3, 1, 5, 4, 2]\n",
    "a.sort()\n",
    "print(a)"
   ]
  },
  {
   "cell_type": "code",
   "execution_count": null,
   "id": "2886bb09",
   "metadata": {},
   "outputs": [],
   "source": [
    "a = [3, 1, 5, 4, 2]\n",
    "print(sorted(a))\n",
    "print(a)"
   ]
  },
  {
   "cell_type": "markdown",
   "id": "35933e8e",
   "metadata": {},
   "source": [
    "Но можем использовать вторую вместо первой:"
   ]
  },
  {
   "cell_type": "code",
   "execution_count": null,
   "id": "953f6807",
   "metadata": {},
   "outputs": [],
   "source": [
    "a = [3, 1, 5, 4, 2]\n",
    "a = sorted(a)\n",
    "print(a)"
   ]
  },
  {
   "cell_type": "markdown",
   "id": "a4b08cda",
   "metadata": {},
   "source": [
    "Сортировка по ключу. key - это второй параметр функции `sorted` и он часто записывает в виде лямбда-функции, которая возвращает функции от объектов, которые мы используем в качестве меры этих объектов для сортировки"
   ]
  },
  {
   "cell_type": "code",
   "execution_count": null,
   "id": "7acaea5d",
   "metadata": {},
   "outputs": [],
   "source": [
    "a = [3, 1, 5, 4, 2]\n",
    "a = sorted(a, key = lambda x: -x)\n",
    "print(a)"
   ]
  },
  {
   "cell_type": "code",
   "execution_count": null,
   "id": "999810ba",
   "metadata": {},
   "outputs": [],
   "source": [
    "a = [[1, 5], [3, 3], [5, 5], [3, 0]]\n",
    "print(sorted(a, key = lambda x: sum(x)))"
   ]
  },
  {
   "cell_type": "code",
   "execution_count": null,
   "id": "5ea4f6f5",
   "metadata": {},
   "outputs": [],
   "source": [
    "a = [[1, 5], [3, 3], [5, 5], [3, 0]]\n",
    "print(sorted(a, key = lambda x: x[0] ** 2 + x[1] ** 2))"
   ]
  },
  {
   "cell_type": "markdown",
   "id": "36ab77a2",
   "metadata": {},
   "source": [
    "Можем сортировать по нескольким параметрам в порядке убывания приоритета:"
   ]
  },
  {
   "cell_type": "code",
   "execution_count": null,
   "id": "53845f34",
   "metadata": {},
   "outputs": [],
   "source": [
    "a = [[1, 6], [2, 5], [3, 4]]\n",
    "print(sorted(a, key = lambda x: (sum(x), x[1])))"
   ]
  },
  {
   "cell_type": "markdown",
   "id": "7d0ad4e6",
   "metadata": {},
   "source": [
    "`(sum(x), x[1])` - это кортеж. Кортежи похожи на списки, но они неизменяемы (нельзя присваивать по индексу и добавлять элементы)"
   ]
  },
  {
   "cell_type": "code",
   "execution_count": null,
   "id": "009d6082",
   "metadata": {},
   "outputs": [],
   "source": [
    "a = [1, 2]\n",
    "a[1] = 3\n",
    "print(a)"
   ]
  },
  {
   "cell_type": "code",
   "execution_count": null,
   "id": "435c3f6c",
   "metadata": {},
   "outputs": [],
   "source": [
    "a = (1, 2)\n",
    "a[1] = 3\n",
    "print(a)"
   ]
  },
  {
   "cell_type": "code",
   "execution_count": null,
   "id": "96e37c3d",
   "metadata": {},
   "outputs": [],
   "source": [
    "a = [1, 2]\n",
    "a.append(3)\n",
    "print(a)"
   ]
  },
  {
   "cell_type": "code",
   "execution_count": null,
   "id": "f5a32233",
   "metadata": {},
   "outputs": [],
   "source": [
    "a = (1, 2)\n",
    "a.append(3)\n",
    "print(a)"
   ]
  },
  {
   "cell_type": "code",
   "execution_count": null,
   "id": "1b626f89",
   "metadata": {},
   "outputs": [],
   "source": [
    "a = [1, 2]\n",
    "a = [3, 4]\n",
    "print(a)"
   ]
  },
  {
   "cell_type": "code",
   "execution_count": null,
   "id": "0fa7c68a",
   "metadata": {},
   "outputs": [],
   "source": [
    "a = (1, 2)\n",
    "a = (3, 4)\n",
    "print(a)"
   ]
  },
  {
   "cell_type": "markdown",
   "id": "7f6bc90e",
   "metadata": {},
   "source": [
    "Строки сортируются в лексикографическом порядке:"
   ]
  },
  {
   "cell_type": "code",
   "execution_count": null,
   "id": "7f7b871b",
   "metadata": {},
   "outputs": [],
   "source": [
    "a = [\"100\", \"11\", \"12\", \"120\", \"119\"]\n",
    "print(sorted(a))"
   ]
  },
  {
   "cell_type": "code",
   "execution_count": null,
   "id": "7579dcda",
   "metadata": {},
   "outputs": [],
   "source": [
    "a = [\"100\", \"11\", \"12\", \"120\", \"119\"]\n",
    "print(sorted(a, key = lambda x: int(x)))"
   ]
  },
  {
   "cell_type": "markdown",
   "id": "e58bbfcc",
   "metadata": {},
   "source": [
    "## Снова к файлам"
   ]
  },
  {
   "cell_type": "markdown",
   "id": "c4583973",
   "metadata": {},
   "source": [
    "**Пример:** дана таблица результатов олимпиады в формате \"Фамилия Имя Класс Балл\". Нужно скопировать ее в текстовый файл и считать в двумерный массив. Задача - определить фамилию и имя победителя олимпиады. Если их несколько, вывести первого в лексикографическом порядке.\n",
    "\n",
    "Решение: считаем данные в двумерный список. Отсортируем его по убыванию балла и по возрастанию ФИ.\n",
    "\n",
    "Таблица:\n",
    "\n",
    "    Иванов Сергей 9 90\n",
    "    Сергеев Петр 10 85\n",
    "    Петров Иван 11 90"
   ]
  },
  {
   "cell_type": "code",
   "execution_count": null,
   "id": "1295ab84",
   "metadata": {},
   "outputs": [],
   "source": [
    "with open(\"input.txt\", \"r\", encoding=\"utf-8\") as f:\n",
    "    a = list(map(lambda x: x.rstrip().split(), f.readlines()))\n",
    "    print(a)"
   ]
  },
  {
   "cell_type": "code",
   "execution_count": null,
   "id": "e102afba",
   "metadata": {},
   "outputs": [],
   "source": [
    "print(sorted(a, key = lambda x: (-int(x[3]), x[0], x[1])))"
   ]
  },
  {
   "cell_type": "code",
   "execution_count": null,
   "id": "8c29b96e",
   "metadata": {},
   "outputs": [],
   "source": [
    "print(\" \".join(sorted(a, key = lambda x: (-int(x[3]), x[0], x[1]))[0][:2]))"
   ]
  },
  {
   "cell_type": "markdown",
   "id": "c233c0df",
   "metadata": {},
   "source": [
    "## Генераторы и отложенные вычисления"
   ]
  },
  {
   "cell_type": "code",
   "execution_count": null,
   "id": "d2c31a60",
   "metadata": {},
   "outputs": [],
   "source": [
    "def foo(x):\n",
    "    print(f\"foo called for {x}\")\n",
    "    return x * 10\n",
    "\n",
    "for x in map(foo, [1, 2, 3]):\n",
    "    print(x)"
   ]
  },
  {
   "cell_type": "code",
   "execution_count": null,
   "id": "471d3f6d",
   "metadata": {},
   "outputs": [],
   "source": [
    "def foo(x):\n",
    "    print(f\"foo called for {x}\")\n",
    "    return x * 10\n",
    "\n",
    "def boo(x):\n",
    "    print(f\"foo called for {x}\")\n",
    "    return x + 1000\n",
    "\n",
    "A = [1, 2, 3]\n",
    "B = map(foo, A)\n",
    "C = map(boo, B)\n",
    "print(\"Iterations start:\")\n",
    "for x in C:\n",
    "    print(x)"
   ]
  },
  {
   "cell_type": "markdown",
   "id": "b9b2c2a5",
   "metadata": {},
   "source": [
    "## Итерируемые объекты"
   ]
  },
  {
   "cell_type": "markdown",
   "id": "28ad489b",
   "metadata": {},
   "source": [
    "Часто бывает удобно использовать *распаковку* переменных:"
   ]
  },
  {
   "cell_type": "code",
   "execution_count": null,
   "id": "5dd09d97",
   "metadata": {},
   "outputs": [],
   "source": [
    "a, b = 1, 2\n",
    "print(a)\n",
    "print(b)"
   ]
  },
  {
   "cell_type": "code",
   "execution_count": null,
   "id": "f6d9de19",
   "metadata": {},
   "outputs": [],
   "source": [
    "a, b, c = [1, 2, 3]\n",
    "print(a)\n",
    "print(b)\n",
    "print(c)"
   ]
  },
  {
   "cell_type": "code",
   "execution_count": null,
   "id": "8a7bc4c0",
   "metadata": {},
   "outputs": [],
   "source": [
    "a, b, c = [1, 2, 3, 4, 5]"
   ]
  },
  {
   "cell_type": "code",
   "execution_count": null,
   "id": "824efb53",
   "metadata": {},
   "outputs": [],
   "source": [
    "*a, b, c = [1, 2, 3, 4, 5]\n",
    "print(a, b, c)"
   ]
  },
  {
   "cell_type": "code",
   "execution_count": null,
   "id": "6bae667a",
   "metadata": {},
   "outputs": [],
   "source": [
    "a, *b, c = [1, 2, 3, 4, 5]\n",
    "print(a, b, c)"
   ]
  },
  {
   "cell_type": "code",
   "execution_count": null,
   "id": "b59f365f",
   "metadata": {},
   "outputs": [],
   "source": [
    "a, b, *c = [1, 2, 3, 4, 5]\n",
    "print(a, b, c)"
   ]
  },
  {
   "cell_type": "code",
   "execution_count": null,
   "id": "207af4f8",
   "metadata": {},
   "outputs": [],
   "source": [
    "for a, b, c in [(1, 2, 3), (4, 5, 6), (7, 8, 9)]:\n",
    "    print(a, b, c)"
   ]
  },
  {
   "cell_type": "code",
   "execution_count": null,
   "id": "5f2be0ff",
   "metadata": {},
   "outputs": [],
   "source": [
    "for a, *b in [(1, 2, 3, 4), (10, 20), (100, 200, 300)]:\n",
    "    print(a, b)"
   ]
  },
  {
   "cell_type": "code",
   "execution_count": null,
   "id": "866f2440",
   "metadata": {},
   "outputs": [],
   "source": [
    "a, (b, c) = [1, (2, 3)]\n",
    "print(a, b, c)"
   ]
  },
  {
   "cell_type": "markdown",
   "id": "765afc8a",
   "metadata": {},
   "source": [
    "### enumerate, zip, for с распаковкой "
   ]
  },
  {
   "cell_type": "markdown",
   "id": "5fa29a5a",
   "metadata": {},
   "source": [
    "В цикле `for` также можно использовать распаковку:"
   ]
  },
  {
   "cell_type": "code",
   "execution_count": null,
   "id": "e3e3cb71",
   "metadata": {},
   "outputs": [],
   "source": [
    "a = [[1, 2], [3, 4], [5, 6]]\n",
    "for x, y in a:\n",
    "    print(x, y, x + y)"
   ]
  },
  {
   "cell_type": "markdown",
   "id": "2bb6559b",
   "metadata": {},
   "source": [
    "Часто такая распаковка используется не сама по себе, а вместе с использованием удобных функций `zip` и `enumerate`, которые позволяют удобнее работать со списками:"
   ]
  },
  {
   "cell_type": "code",
   "execution_count": null,
   "id": "d35a510a",
   "metadata": {},
   "outputs": [],
   "source": [
    "a = [[1, 2, 3], [4, 5, 6], [7, 8, 9], [0, 0, 0]]\n",
    "for i, x in enumerate(a):\n",
    "    print(i, x, sum(x))"
   ]
  },
  {
   "cell_type": "code",
   "execution_count": null,
   "id": "70889557",
   "metadata": {},
   "outputs": [],
   "source": [
    "with open(\"1.txt\", \"w\") as f:\n",
    "    f.writelines([word + \"\\n\" for word in [\"dog\", \"cat\", \"mouse\", \"duck\", \"goose\"]])\n",
    "for line in open(\"1.txt\"):\n",
    "    print(line.strip())"
   ]
  },
  {
   "cell_type": "code",
   "execution_count": null,
   "id": "a34d5858",
   "metadata": {
    "scrolled": true
   },
   "outputs": [],
   "source": [
    "for i, x in enumerate(open(\"1.txt\")):\n",
    "    print(i, x.rstrip())"
   ]
  },
  {
   "cell_type": "code",
   "execution_count": null,
   "id": "5f28d35c",
   "metadata": {},
   "outputs": [],
   "source": [
    "a = [\"ab\", \"cd\", \"ef\"]\n",
    "b = [1, 2, 3]\n",
    "print(list(zip(a, b)))"
   ]
  },
  {
   "cell_type": "code",
   "execution_count": null,
   "id": "8f44fcfd",
   "metadata": {},
   "outputs": [],
   "source": [
    "for a, b in zip(\"abcde\", range(5)):\n",
    "    print(a, b)"
   ]
  },
  {
   "cell_type": "code",
   "execution_count": null,
   "id": "172870c2",
   "metadata": {},
   "outputs": [],
   "source": [
    "for a, b in zip(\"abcde\", range(10)):\n",
    "    print(a, b)"
   ]
  },
  {
   "cell_type": "markdown",
   "id": "9b5d74fb",
   "metadata": {},
   "source": [
    "## itertools"
   ]
  },
  {
   "cell_type": "markdown",
   "id": "f6fc0268",
   "metadata": {},
   "source": [
    "Для более удобной работы с итерируемыми объектами мы можем использовать библиотеку `itertools`. Для этого нужно ее импортировать:"
   ]
  },
  {
   "cell_type": "code",
   "execution_count": null,
   "id": "40027db1",
   "metadata": {},
   "outputs": [],
   "source": [
    "import itertools as it\n"
   ]
  },
  {
   "cell_type": "code",
   "execution_count": null,
   "id": "a2e7b20a",
   "metadata": {},
   "outputs": [],
   "source": [
    "for x, y, z in it.permutations(\"ABC\"):\n",
    "    print(x, y, z, sep='')"
   ]
  },
  {
   "cell_type": "code",
   "execution_count": null,
   "id": "34109753",
   "metadata": {},
   "outputs": [],
   "source": [
    "for x, y, z in it.permutations(\"ABCD\", 3):\n",
    "    print(x, y, z, sep='', end=' ')"
   ]
  },
  {
   "cell_type": "markdown",
   "id": "860da4be",
   "metadata": {},
   "source": [
    "**Упражнение:**\n",
    "Вычислите с помощью `it.permutation` $C_{12}^{5}$"
   ]
  },
  {
   "cell_type": "code",
   "execution_count": null,
   "id": "b43dcc6b",
   "metadata": {},
   "outputs": [],
   "source": []
  },
  {
   "cell_type": "code",
   "execution_count": null,
   "id": "5b112ac3",
   "metadata": {},
   "outputs": [],
   "source": [
    "for x, y in it.combinations(\"ABCDE\", 2):\n",
    "    print(x, y, sep='', end=' ')"
   ]
  },
  {
   "cell_type": "code",
   "execution_count": null,
   "id": "154afae1",
   "metadata": {},
   "outputs": [],
   "source": [
    "for x, y in it.combinations_with_replacement(\"ABCDE\", 2):\n",
    "    print(x, y, sep='', end=' ')"
   ]
  },
  {
   "cell_type": "code",
   "execution_count": null,
   "id": "9a7ad207",
   "metadata": {},
   "outputs": [],
   "source": [
    "for a in it.chain(\"мама\", \"мыла\", \"раму\"):\n",
    "    print(a, end=' ')"
   ]
  },
  {
   "cell_type": "code",
   "execution_count": null,
   "id": "72c4e409",
   "metadata": {},
   "outputs": [],
   "source": [
    "for a in it.chain([5, 4, 3], [3, 4, 5], [[3, 4, 5]]):\n",
    "    print(a, end=' ')"
   ]
  },
  {
   "cell_type": "code",
   "execution_count": null,
   "id": "950eed61",
   "metadata": {},
   "outputs": [],
   "source": [
    "for n, s in it.product(\"wxyz\", \"ABC\"):\n",
    "    print(n, s)"
   ]
  },
  {
   "cell_type": "markdown",
   "id": "6b925d3f",
   "metadata": {},
   "source": [
    "**Упражнение:**\n",
    "Введите 2 списка (координаты вектора `a` и координаты вектора `b`) и найдите скалярное произведение этих векторов, используя `zip` или что-нибудь из `itertools`."
   ]
  },
  {
   "cell_type": "code",
   "execution_count": null,
   "id": "80086fe0",
   "metadata": {},
   "outputs": [],
   "source": []
  }
 ],
 "metadata": {
  "kernelspec": {
   "display_name": "Python 3 (ipykernel)",
   "language": "python",
   "name": "python3"
  },
  "language_info": {
   "codemirror_mode": {
    "name": "ipython",
    "version": 3
   },
   "file_extension": ".py",
   "mimetype": "text/x-python",
   "name": "python",
   "nbconvert_exporter": "python",
   "pygments_lexer": "ipython3",
   "version": "3.9.7"
  }
 },
 "nbformat": 4,
 "nbformat_minor": 5
}
